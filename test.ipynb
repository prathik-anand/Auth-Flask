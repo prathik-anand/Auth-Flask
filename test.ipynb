{
 "cells": [
  {
   "cell_type": "code",
   "execution_count": 1,
   "metadata": {},
   "outputs": [
    {
     "name": "stdout",
     "output_type": "stream",
     "text": [
      "SECRET_KEY=74b23cc847f6c3bb22bac77550ac9be7551de5260a4ddbd8da0011f84941d2e7\n",
      "JWT_SECRET_KEY=e67e0a8ef132609e2c39e2e3a45e17d21e420703158f14dba2de024de349008b\n"
     ]
    }
   ],
   "source": [
    "import secrets\n",
    "\n",
    "def generate_secret_key(length=32):\n",
    "    \"\"\"Generate a random secret key.\"\"\"\n",
    "    return secrets.token_hex(length)\n",
    "\n",
    "if __name__ == \"__main__\":\n",
    "    secret_key = generate_secret_key()\n",
    "    jwt_secret_key = generate_secret_key()\n",
    "\n",
    "    print(f\"SECRET_KEY={secret_key}\")\n",
    "    print(f\"JWT_SECRET_KEY={jwt_secret_key}\")"
   ]
  }
 ],
 "metadata": {
  "kernelspec": {
   "display_name": "Python 3",
   "language": "python",
   "name": "python3"
  },
  "language_info": {
   "codemirror_mode": {
    "name": "ipython",
    "version": 3
   },
   "file_extension": ".py",
   "mimetype": "text/x-python",
   "name": "python",
   "nbconvert_exporter": "python",
   "pygments_lexer": "ipython3",
   "version": "3.12.7"
  }
 },
 "nbformat": 4,
 "nbformat_minor": 2
}
